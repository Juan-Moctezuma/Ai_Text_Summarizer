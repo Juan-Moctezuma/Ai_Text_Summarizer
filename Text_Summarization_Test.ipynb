{
 "cells": [
  {
   "cell_type": "markdown",
   "id": "b36b8311",
   "metadata": {},
   "source": [
    "# Ai Text Summarization"
   ]
  },
  {
   "cell_type": "markdown",
   "id": "a32df219",
   "metadata": {},
   "source": [
    "## Method 1 - Pegasus Pre-Trained Model"
   ]
  },
  {
   "cell_type": "code",
   "execution_count": 13,
   "id": "579b92b4",
   "metadata": {},
   "outputs": [],
   "source": [
    "from bs4 import BeautifulSoup # Pipeline Method\n",
    "import requests # Pipeline Method\n",
    "from transformers import PegasusForConditionalGeneration, PegasusTokenizer # Pegasus Method\n",
    "from transformers import pipeline # Pipeline Method"
   ]
  },
  {
   "cell_type": "markdown",
   "id": "34af6172",
   "metadata": {},
   "source": [
    "### 1. Import and Load Pegasus Model"
   ]
  },
  {
   "cell_type": "code",
   "execution_count": 2,
   "id": "b3a557b3",
   "metadata": {},
   "outputs": [
    {
     "data": {
      "application/vnd.jupyter.widget-view+json": {
       "model_id": "335f72e9fa3d48b5a264fdac84d11988",
       "version_major": 2,
       "version_minor": 0
      },
      "text/plain": [
       "Downloading (…)ve/main/spiece.model:   0%|          | 0.00/1.91M [00:00<?, ?B/s]"
      ]
     },
     "metadata": {},
     "output_type": "display_data"
    },
    {
     "data": {
      "application/vnd.jupyter.widget-view+json": {
       "model_id": "eb99afae24ff405ebb520cffc73742d9",
       "version_major": 2,
       "version_minor": 0
      },
      "text/plain": [
       "Downloading (…)cial_tokens_map.json:   0%|          | 0.00/65.0 [00:00<?, ?B/s]"
      ]
     },
     "metadata": {},
     "output_type": "display_data"
    },
    {
     "data": {
      "application/vnd.jupyter.widget-view+json": {
       "model_id": "f5813a0292154be5ad1ee76c5d120f11",
       "version_major": 2,
       "version_minor": 0
      },
      "text/plain": [
       "Downloading (…)okenizer_config.json:   0%|          | 0.00/87.0 [00:00<?, ?B/s]"
      ]
     },
     "metadata": {},
     "output_type": "display_data"
    },
    {
     "data": {
      "application/vnd.jupyter.widget-view+json": {
       "model_id": "38629f4239ce429690d9a0c78d0ba416",
       "version_major": 2,
       "version_minor": 0
      },
      "text/plain": [
       "Downloading (…)lve/main/config.json:   0%|          | 0.00/1.39k [00:00<?, ?B/s]"
      ]
     },
     "metadata": {},
     "output_type": "display_data"
    },
    {
     "data": {
      "application/vnd.jupyter.widget-view+json": {
       "model_id": "c38956fe8300441099410a96eafc62cd",
       "version_major": 2,
       "version_minor": 0
      },
      "text/plain": [
       "Downloading pytorch_model.bin:   0%|          | 0.00/2.28G [00:00<?, ?B/s]"
      ]
     },
     "metadata": {},
     "output_type": "display_data"
    },
    {
     "data": {
      "application/vnd.jupyter.widget-view+json": {
       "model_id": "cddc123a3d6c4439acb3bf2df961510d",
       "version_major": 2,
       "version_minor": 0
      },
      "text/plain": [
       "Downloading (…)neration_config.json:   0%|          | 0.00/259 [00:00<?, ?B/s]"
      ]
     },
     "metadata": {},
     "output_type": "display_data"
    }
   ],
   "source": [
    "# Load tokenizer \n",
    "tokenizer = PegasusTokenizer.from_pretrained(\"google/pegasus-xsum\")\n",
    "# Load model \n",
    "model = PegasusForConditionalGeneration.from_pretrained(\"google/pegasus-xsum\")"
   ]
  },
  {
   "cell_type": "markdown",
   "id": "9674980e",
   "metadata": {},
   "source": [
    "### 2. Perform Abstractive Summarization"
   ]
  },
  {
   "cell_type": "code",
   "execution_count": 3,
   "id": "72de2e80",
   "metadata": {},
   "outputs": [],
   "source": [
    "text = \"\"\"\n",
    "The origin of aerospace engineering can be traced back to the aviation pioneers around the late 19th to early 20th centuries, although the work of Sir George Cayley dates from the last decade of the 18th to mid-19th century. One of the most important people in the history of aeronautics[8] and a pioneer in aeronautical engineering,[9] Cayley is credited as the first person to separate the forces of lift and drag, which affect any atmospheric flight vehicle.[10]\n",
    "\n",
    "Early knowledge of aeronautical engineering was largely empirical, with some concepts and skills imported from other branches of engineering.[11] Some key elements, like fluid dynamics, were understood by 18th-century scientists.[12]\n",
    "\n",
    "In December 1903, the Wright Brothers performed the first sustained, controlled flight of a powered, heavier-than-air aircraft, lasting 12 seconds. The 1910s saw the development of aeronautical engineering through the design of World War I military aircraft.\n",
    "\n",
    "Between World Wars I and II, great leaps were made in the field, accelerated by the advent of mainstream civil aviation. Notable airplanes of this era include the Curtiss JN 4, the Farman F.60 Goliath, and Fokker Trimotor. Notable military airplanes of this period include the Mitsubishi A6M Zero, the Supermarine Spitfire and the Messerschmitt Bf 109 from Japan, United Kingdom, and Germany respectively. A significant development in aerospace engineering came with the first operational Jet engine-powered airplane, the Messerschmitt Me 262 which entered service in 1944 towards the end of the second World War.[13]\n",
    "\n",
    "The first definition of aerospace engineering appeared in February 1958,[4] considering the Earth's atmosphere and outer space as a single realm, thereby encompassing both aircraft (aero) and spacecraft (space) under the newly coined term aerospace.\n",
    "\n",
    "In response to the USSR launching the first satellite, Sputnik, into space on October 4, 1957, U.S. aerospace engineers launched the first American satellite on January 31, 1958. The National Aeronautics and Space Administration was founded in 1958 as a response to the Cold War. In 1969, Apollo 11, the first human space mission to the moon took place. It saw three astronauts enter orbit around the Moon, with two, Neil Armstrong and Buzz Aldrin, visiting the lunar surface. The third astronaut, Michael Collins, stayed in orbit to rendezvous with Armstrong and Aldrin after their visit.[14]\n",
    "\n",
    "An important innovation came on January 30, 1970, when the Boeing 747 made its first commercial flight from New York to London. This aircraft made history and became known as the \"Jumbo Jet\" or \"Whale\"[15] due to its ability to hold up to 480 passengers.[16]\n",
    "\n",
    "Another significant development in aerospace engineering came in 1976, with the development of the first passenger supersonic aircraft, the Concorde. The development of this aircraft was agreed upon by the French and British on November 29, 1962.[17]\n",
    "\n",
    "On December 21, 1988, the Antonov An-225 Mriya cargo aircraft commenced its first flight. It holds the records for the world's heaviest aircraft, heaviest airlifted cargo, and longest airlifted cargo, and has the widest wingspan of any aircraft in operational service.[18]\n",
    "\n",
    "On October 25, 2007, the Airbus A380 made its maiden commercial flight from Singapore to Sydney, Australia. This aircraft was the first passenger plane to surpass the Boeing 747 in terms of passenger capacity, with a maximum of 853. Though development of this aircraft began in 1988 as a competitor to the 747, the A380 made its first test flight in April 2005.\"\"\""
   ]
  },
  {
   "cell_type": "code",
   "execution_count": 4,
   "id": "19a466c7",
   "metadata": {},
   "outputs": [],
   "source": [
    "# Create tokens - number representation of our text\n",
    "tokens = tokenizer(text, truncation = True, padding = \"longest\", return_tensors = \"pt\")"
   ]
  },
  {
   "cell_type": "code",
   "execution_count": 5,
   "id": "ad868bee",
   "metadata": {},
   "outputs": [
    {
     "data": {
      "text/plain": [
       "{'input_ids': tensor([[  139,  5679,   113, 16902,  2487,   137,   129, 19784,   247,   112,\n",
       "           109, 10720, 21050,   279,   109,  1095,  1925,   307,   112,   616,\n",
       "           599,   307,  6468,   108,  1670,   109,   201,   113,  6381,  2584,\n",
       "         33087,  2858,  3060,   135,   109,   289,  3496,   113,   109,  1204,\n",
       "           307,   112,  2104, 11545,   307,  1902,   107,   614,   113,   109,\n",
       "           205,   356,   200,   115,   109,   689,   113, 31839, 30651, 19473,\n",
       "          4101,  2000,  1100,   111,   114, 12649,   115, 77181,  2487,   108,\n",
       "          4101, 76207, 33087,  2858,   117, 12833,   130,   109,   211,   465,\n",
       "           112,  1910,   109,  3062,   113,  3811,   111,  6329,   108,   162,\n",
       "          2384,   189, 14387,  2315,  1143,   107, 65077, 73950,  6236,   825,\n",
       "           113, 77181,  2487,   140,  4318, 18976,   108,   122,   181,  3924,\n",
       "           111,   766,  9156,   135,   176,  6106,   113,  2487,   107, 65077,\n",
       "         49040,  1027,   662,  1811,   108,   172,  5651,  8530,   108,   195,\n",
       "          5045,   141,  1204,   307,   121,  8958,  4182,   107, 65077, 50558,\n",
       "           222,  1408, 31429,   108,   109,  9021,  9354,  2303,   109,   211,\n",
       "          8123,   108,  3922,  2315,   113,   114,  5335,   108, 11959,   121,\n",
       "         10306,   121,  6011,  3992,   108,  4894,   665,  2286,   107,   139,\n",
       "         20792,   116,  1148,   109,   486,   113, 77181,  2487,   224,   109,\n",
       "           354,   113,   894,  1981,   125,  2002,  3992,   107,  9384,   894,\n",
       "          5969,   125,   111,  2751,   108,   255, 29007,   195,   266,   115,\n",
       "           109,   764,   108, 16158,   141,   109, 15519,   113,  7448,  3541,\n",
       "         10720,   107, 49412, 25555,   113,   136,  4065,   444,   109, 15558,\n",
       "           116, 54195,  6553,   109,  4647,  1321,  1091,   107,  5866, 53728,\n",
       "           108,   111,  1091,  9164,  7088,  5732, 24872,   107, 49412,  2002,\n",
       "         25555,   113,   136,   908,   444,   109, 21670,   202,  1717,   897,\n",
       "         10590,   108,   109,  2422, 33577, 63984,   111,   109, 82393,  9628,\n",
       "         17055,   144,   596,  2073, 20517,   135,  2466,   108,   706,  4096,\n",
       "           108,   111,  2579,  4802,   107,   202,  1225,   486,   115, 16902,\n",
       "          2487,   642,   122,   109,   211,  4594, 10729,  1507,   121, 10753,\n",
       "         13546,   108,   109, 82393,  9628, 17055,   144,  2587, 48485,   162,\n",
       "          3295,   292,   115, 24738,  1239,   109,   370,   113,   109,   453,\n",
       "           894,  1981,   107, 65077, 59740,   139,   211,  3955,   113, 16902,\n",
       "          2487,  2893,   115,  1538, 17185,   108,  4101, 60708,  2635,   109,\n",
       "          2774,   131,   116,  2918,   111,  6685,   501,   130,   114,   612,\n",
       "         10224,   108,  7611, 25109,   302,  3992,   143, 65448,   158,   111,\n",
       "         18328,   143,  8544,   158,   365,   109,  3798, 27775,  1286, 16902,\n",
       "           107,   222,  1407,   112,   109, 40737,  6957,   109,   211,  5558,\n",
       "           108,   110, 59612,   108,   190,   501,   124,  1350,  6553, 20636,\n",
       "           108,   475,   107,   283,   107, 16902,  4885,  2365,   109,   211,\n",
       "           655,  5558,   124,  1268,  7686, 17185,   107,   139,   765, 76559,\n",
       "           111,  4108,  4396,   140,  3271,   115, 17185,   130,   114,  1407,\n",
       "           112,   109,  8664,  1981,   107,   222, 36741, 16198,  7320,   109,\n",
       "           211,   883,   501,  1755,   112,   109,  5847,   635,   295,   107,\n",
       "           168,  1148,   339, 29248,  1646, 14804,   279,   109,  5275,   108,\n",
       "           122,   228,   108, 11039, 16017,   111, 21479, 88044,   108,  2219,\n",
       "           109, 22398,  1494,   107,   139,   776, 33674,   108,  2180,  9343,\n",
       "           108,  4966,   115, 14804,   112, 65582,   122, 16017,   111, 88044,\n",
       "           244,   153,   558,   107, 65077, 60708,   983,   356,  2719,   642,\n",
       "           124,  1268,  8585, 44331,   173,   109, 13500, 52575,   266,   203,\n",
       "           211,  1162,  2315,   135,   351,   859,   112,  1169,   107,   182,\n",
       "          3992,   266,   689,   111,  1257,   606,   130,   109,   198,  1997,\n",
       "         49704,     1]]), 'attention_mask': tensor([[1, 1, 1, 1, 1, 1, 1, 1, 1, 1, 1, 1, 1, 1, 1, 1, 1, 1, 1, 1, 1, 1, 1, 1,\n",
       "         1, 1, 1, 1, 1, 1, 1, 1, 1, 1, 1, 1, 1, 1, 1, 1, 1, 1, 1, 1, 1, 1, 1, 1,\n",
       "         1, 1, 1, 1, 1, 1, 1, 1, 1, 1, 1, 1, 1, 1, 1, 1, 1, 1, 1, 1, 1, 1, 1, 1,\n",
       "         1, 1, 1, 1, 1, 1, 1, 1, 1, 1, 1, 1, 1, 1, 1, 1, 1, 1, 1, 1, 1, 1, 1, 1,\n",
       "         1, 1, 1, 1, 1, 1, 1, 1, 1, 1, 1, 1, 1, 1, 1, 1, 1, 1, 1, 1, 1, 1, 1, 1,\n",
       "         1, 1, 1, 1, 1, 1, 1, 1, 1, 1, 1, 1, 1, 1, 1, 1, 1, 1, 1, 1, 1, 1, 1, 1,\n",
       "         1, 1, 1, 1, 1, 1, 1, 1, 1, 1, 1, 1, 1, 1, 1, 1, 1, 1, 1, 1, 1, 1, 1, 1,\n",
       "         1, 1, 1, 1, 1, 1, 1, 1, 1, 1, 1, 1, 1, 1, 1, 1, 1, 1, 1, 1, 1, 1, 1, 1,\n",
       "         1, 1, 1, 1, 1, 1, 1, 1, 1, 1, 1, 1, 1, 1, 1, 1, 1, 1, 1, 1, 1, 1, 1, 1,\n",
       "         1, 1, 1, 1, 1, 1, 1, 1, 1, 1, 1, 1, 1, 1, 1, 1, 1, 1, 1, 1, 1, 1, 1, 1,\n",
       "         1, 1, 1, 1, 1, 1, 1, 1, 1, 1, 1, 1, 1, 1, 1, 1, 1, 1, 1, 1, 1, 1, 1, 1,\n",
       "         1, 1, 1, 1, 1, 1, 1, 1, 1, 1, 1, 1, 1, 1, 1, 1, 1, 1, 1, 1, 1, 1, 1, 1,\n",
       "         1, 1, 1, 1, 1, 1, 1, 1, 1, 1, 1, 1, 1, 1, 1, 1, 1, 1, 1, 1, 1, 1, 1, 1,\n",
       "         1, 1, 1, 1, 1, 1, 1, 1, 1, 1, 1, 1, 1, 1, 1, 1, 1, 1, 1, 1, 1, 1, 1, 1,\n",
       "         1, 1, 1, 1, 1, 1, 1, 1, 1, 1, 1, 1, 1, 1, 1, 1, 1, 1, 1, 1, 1, 1, 1, 1,\n",
       "         1, 1, 1, 1, 1, 1, 1, 1, 1, 1, 1, 1, 1, 1, 1, 1, 1, 1, 1, 1, 1, 1, 1, 1,\n",
       "         1, 1, 1, 1, 1, 1, 1, 1, 1, 1, 1, 1, 1, 1, 1, 1, 1, 1, 1, 1, 1, 1, 1, 1,\n",
       "         1, 1, 1, 1, 1, 1, 1, 1, 1, 1, 1, 1, 1, 1, 1, 1, 1, 1, 1, 1, 1, 1, 1, 1,\n",
       "         1, 1, 1, 1, 1, 1, 1, 1, 1, 1, 1, 1, 1, 1, 1, 1, 1, 1, 1, 1, 1, 1, 1, 1,\n",
       "         1, 1, 1, 1, 1, 1, 1, 1, 1, 1, 1, 1, 1, 1, 1, 1, 1, 1, 1, 1, 1, 1, 1, 1,\n",
       "         1, 1, 1, 1, 1, 1, 1, 1, 1, 1, 1, 1, 1, 1, 1, 1, 1, 1, 1, 1, 1, 1, 1, 1,\n",
       "         1, 1, 1, 1, 1, 1, 1, 1]])}"
      ]
     },
     "execution_count": 5,
     "metadata": {},
     "output_type": "execute_result"
    }
   ],
   "source": [
    "# Input tokens\n",
    "tokens"
   ]
  },
  {
   "cell_type": "code",
   "execution_count": 8,
   "id": "88ec27ad",
   "metadata": {},
   "outputs": [],
   "source": [
    "# Summarize \n",
    "summary = model.generate(**tokens)"
   ]
  },
  {
   "cell_type": "code",
   "execution_count": 9,
   "id": "66f5a40a",
   "metadata": {},
   "outputs": [
    {
     "data": {
      "text/plain": [
       "tensor([    0, 25029,  2487,   117,   114,  4444,   113,  2487,   120,  2194,\n",
       "          122,   109,   354,   111,  6785,   113,  3992,   111, 18328,   107,\n",
       "            1])"
      ]
     },
     "execution_count": 9,
     "metadata": {},
     "output_type": "execute_result"
    }
   ],
   "source": [
    "# Output summary tokens\n",
    "summary[0]"
   ]
  },
  {
   "cell_type": "markdown",
   "id": "d09ffb42",
   "metadata": {},
   "source": [
    "### 3. PEGASUS Summarized Output"
   ]
  },
  {
   "cell_type": "code",
   "execution_count": 10,
   "id": "5e6a4f16",
   "metadata": {},
   "outputs": [
    {
     "data": {
      "text/plain": [
       "'<pad>Aerospace engineering is a branch of engineering that deals with the design and manufacture of aircraft and spacecraft.</s>'"
      ]
     },
     "execution_count": 10,
     "metadata": {},
     "output_type": "execute_result"
    }
   ],
   "source": [
    "# Decode summary\n",
    "tokenizer.decode(summary[0])"
   ]
  },
  {
   "cell_type": "markdown",
   "id": "2e730c5f",
   "metadata": {},
   "source": [
    "## Method 2 - Pipeline Method"
   ]
  },
  {
   "cell_type": "markdown",
   "id": "3c83ccf4",
   "metadata": {},
   "source": [
    "### 4. Pipeline Loading"
   ]
  },
  {
   "cell_type": "code",
   "execution_count": 14,
   "id": "74e809d3",
   "metadata": {},
   "outputs": [
    {
     "name": "stderr",
     "output_type": "stream",
     "text": [
      "No model was supplied, defaulted to sshleifer/distilbart-cnn-12-6 and revision a4f8f3e (https://huggingface.co/sshleifer/distilbart-cnn-12-6).\n",
      "Using a pipeline without specifying a model name and revision in production is not recommended.\n"
     ]
    },
    {
     "data": {
      "application/vnd.jupyter.widget-view+json": {
       "model_id": "2644959bde704144ab731aaa7243928b",
       "version_major": 2,
       "version_minor": 0
      },
      "text/plain": [
       "Downloading (…)lve/main/config.json:   0%|          | 0.00/1.80k [00:00<?, ?B/s]"
      ]
     },
     "metadata": {},
     "output_type": "display_data"
    },
    {
     "data": {
      "application/vnd.jupyter.widget-view+json": {
       "model_id": "86029be16c2a4f089e687fe678bbc6c8",
       "version_major": 2,
       "version_minor": 0
      },
      "text/plain": [
       "Downloading pytorch_model.bin:   0%|          | 0.00/1.22G [00:00<?, ?B/s]"
      ]
     },
     "metadata": {},
     "output_type": "display_data"
    },
    {
     "data": {
      "application/vnd.jupyter.widget-view+json": {
       "model_id": "6839e37c4b354f44bbaad6a75e3cada6",
       "version_major": 2,
       "version_minor": 0
      },
      "text/plain": [
       "Downloading (…)okenizer_config.json:   0%|          | 0.00/26.0 [00:00<?, ?B/s]"
      ]
     },
     "metadata": {},
     "output_type": "display_data"
    },
    {
     "data": {
      "application/vnd.jupyter.widget-view+json": {
       "model_id": "9396b982a0664fbd94363e6c6dc2e6d2",
       "version_major": 2,
       "version_minor": 0
      },
      "text/plain": [
       "Downloading (…)olve/main/vocab.json:   0%|          | 0.00/899k [00:00<?, ?B/s]"
      ]
     },
     "metadata": {},
     "output_type": "display_data"
    },
    {
     "data": {
      "application/vnd.jupyter.widget-view+json": {
       "model_id": "5e9dcc85735647648472aabede5d51f1",
       "version_major": 2,
       "version_minor": 0
      },
      "text/plain": [
       "Downloading (…)olve/main/merges.txt:   0%|          | 0.00/456k [00:00<?, ?B/s]"
      ]
     },
     "metadata": {},
     "output_type": "display_data"
    }
   ],
   "source": [
    "summarizer = pipeline(\"summarization\")"
   ]
  },
  {
   "cell_type": "markdown",
   "id": "826422cc",
   "metadata": {},
   "source": [
    "### 5. Get Blog Post"
   ]
  },
  {
   "cell_type": "code",
   "execution_count": 15,
   "id": "c0c289c8",
   "metadata": {},
   "outputs": [],
   "source": [
    "#URL = \"https://techcrunch.com/2023/04/25/hugging-face-releases-its-own-version-of-chatgpt/\"\n",
    "URL = \"https://time.com/6273694/ai-regulation-europe/?utm_source=roundup&utm_campaign=20230202\""
   ]
  },
  {
   "cell_type": "code",
   "execution_count": 16,
   "id": "d45e2a18",
   "metadata": {},
   "outputs": [],
   "source": [
    "r = requests.get(URL)"
   ]
  },
  {
   "cell_type": "code",
   "execution_count": 17,
   "id": "046c2e5d",
   "metadata": {},
   "outputs": [],
   "source": [
    "soup = BeautifulSoup(r.text, 'html.parser')\n",
    "results = soup.find_all(['h1','h2','p'])\n",
    "text = [result.text for result in results]\n",
    "ARTICLE = ' '.join(text)"
   ]
  },
  {
   "cell_type": "code",
   "execution_count": 18,
   "id": "f620fa49",
   "metadata": {},
   "outputs": [
    {
     "data": {
      "text/plain": [
       "\"Big Tech Is Already Lobbying to Water Down Europe's AI Rules European lawmakers are putting their finishing touches on a set of wide-ranging rules designed to govern the use of artificial intelligence that, if passed, would make the E.U. the first major jurisdiction outside of China to pass targeted AI regulation. That has made the forthcoming legislation the subject of fierce debate and lobbying, with opposing sides battling to ensure that its scope is either widened or narrowed. Lawmakers are close to agreeing on a draft version of the law, the Financial Times reported last week. After that, the law will progress to negotiations between the bloc’s member states and executive branch.  The E.U. Artificial Intelligence Act is likely to ban controversial uses of AI like social scoring and facial recognition in public, as well as force companies to declare if copyrighted material is used to train their AIs.  The rules could set a global bar for how companies build and deploy their AI systems as companies may find it easier to comply with E.U. rules globally rather than to build different products for different regions—a phenomenon known as the “Brussels effect.”  “The E.U. AI Act is definitely going to set the regulatory tone around: what does an omnibus regulation of AI look like?” says Amba Kak, the executive director of the AI Now Institute, a policy research group based at NYU. One of the Act’s most contentious points is whether so-called “general purpose AI”—of the kind that ChatGPT is based on—should be considered high-risk, and thus subject to the strictest rules and penalties for misuse. On one side of the debate are Big Tech companies and a conservative bloc of politicians, who argue that to label general purpose AIs as “high risk” would stifle innovation. On the other is a group of progressive politicians and technologists, who argue that exempting powerful general purpose AI systems from the new rules would be akin to passing social media regulation that doesn’t apply to Facebook or TikTok. Read More: The A to Z of Artificial Intelligence Those calling for general purpose AI models to be regulated argue that only the developers of general purpose AI systems have real insights into how those models are trained, and therefore the biases and harms that can arise as a result. They say that the big tech companies behind artificial intelligence—the only ones with the power to change how these general purpose systems are built—would be let off the hook if the onus for ensuring AI safety were shifted onto smaller companies downstream.  In an open letter published earlier this month, more than 50 institutions and AI experts argued against general purpose artificial intelligence being exempted from the E.U. regulation. “Considering [general purpose AI] as not high-risk would exempt the companies at the heart of the AI industry, who make extraordinarily important choices about how these models are shaped, how they’ll work, who they’ll work for, during the development and calibration process,” says Meredith Whittaker, the president of the Signal Foundation and a signatory of the letter. “It would exempt them from scrutiny even as these general purpose AIs are core to their business model.” Big Tech companies like Google and Microsoft, which have plowed billions of dollars into AI, are arguing against the proposals, according to a report by the Corporate Europe Observatory, a transparency group. Lobbyists have argued that it is only when general purpose AIs are applied to “high risk” use cases—often by smaller companies tapping into them to build more niche, downstream applications—that they become dangerous, the Observatory’s report states. “General-purpose AI systems are purpose neutral: they are versatile by design, and are not themselves high-risk because these systems are not intended for any specific purpose,” Google argued in a document that it sent to the offices of E.U. commissioners in the summer of 2022, which the Corporate Europe Observatory obtained through freedom of information requests and made public last week. Categorizing general-purpose AI systems as “high risk,” Google argued, could harm consumers and hamper innovation in Europe.  Microsoft, the biggest investor in OpenAI, has made similar arguments through industry groups that it is a member of. “There is no need for the AI Act to have a specific section on GPAI [general purpose AI],” an industry group letter co-signed by Microsoft in 2022 states. “It is … not possible for providers of GPAI software to exhaustively guess and anticipate the AI solutions that will be built based on their software.” Microsoft has also lobbied against the E.U. AI Act “unduly burdening innovation” through The Software Alliance, an industry lobby group that it founded in 1998. The forthcoming regulations, it argues, should be “assigned to the user that may place the general purpose AI in a high-risk use [case],” rather than the developer of the general purpose system itself. A spokesperson for Microsoft declined to comment. Representatives for Google did not respond to requests for comment in time for publication. Read More: The AI Arms Race Is Changing Everything The E.U. AI Act was first drafted in 2021, at a time when AIs were primarily narrow tools applied to narrow use-cases. But in the last two years, Big Tech companies have begun to successfully develop and launch powerful “general purpose” AI systems that can perform harmless tasks—like writing poetry—while equally having the capacity for much riskier behaviors. (Think OpenAI’s GPT-4 or Google’s LaMDA.) Under the prevailing business model that has since emerged, these big companies license their powerful general purpose AIs to other businesses, who will often adapt them to specific tasks and make them public through an app or interface. Read More: The New AI-Powered Bing Is Threatening Users. That’s No Laughing Matter Some argue that the E.U. has placed itself in a bind by structuring the AI Act in an outdated fashion. “The underlying problem here is that the whole way they structured the E.U. Act, years ago at this point, was by having risk categories for different uses of AI,” says Helen Toner, a member of OpenAI’s board and the director of strategy at Georgetown’s Center for Security and Emerging Technology. “The problem they are now coming up against is that large language models—general purpose models—don’t have an inherent use case. This is a big shift in how AI works.” “Once these models are trained, they’re not trained to do one specific thing,” Toner says. “Even the people who create them don’t actually know what they can and can’t do. I expect that it’s going to be, probably, years before we really know all the things that GPT-4 can and can’t do. This is very difficult for a piece of legislation that is structured around categorizing AI systems according to risk levels based on their use case.” Write to Billy Perrigo at billy.perrigo@time.com.\""
      ]
     },
     "execution_count": 18,
     "metadata": {},
     "output_type": "execute_result"
    }
   ],
   "source": [
    "ARTICLE"
   ]
  },
  {
   "cell_type": "markdown",
   "id": "7b8265fc",
   "metadata": {},
   "source": [
    "### 6. Chunk Text"
   ]
  },
  {
   "cell_type": "code",
   "execution_count": 19,
   "id": "0e18803c",
   "metadata": {},
   "outputs": [],
   "source": [
    "max_chunk = 500"
   ]
  },
  {
   "cell_type": "code",
   "execution_count": 20,
   "id": "aa996f14",
   "metadata": {},
   "outputs": [],
   "source": [
    "ARTICLE = ARTICLE.replace('.', '.<eos>')\n",
    "ARTICLE = ARTICLE.replace('?', '?<eos>')\n",
    "ARTICLE = ARTICLE.replace('!', '!<eos>')"
   ]
  },
  {
   "cell_type": "code",
   "execution_count": 21,
   "id": "b8f32983",
   "metadata": {},
   "outputs": [
    {
     "name": "stdout",
     "output_type": "stream",
     "text": [
      "0\n"
     ]
    }
   ],
   "source": [
    "sentences = ARTICLE.split('<eos>')\n",
    "current_chunk = 0 \n",
    "chunks = []\n",
    "for sentence in sentences:\n",
    "    if len(chunks) == current_chunk + 1: \n",
    "        if len(chunks[current_chunk]) + len(sentence.split(' ')) <= max_chunk:\n",
    "            chunks[current_chunk].extend(sentence.split(' '))\n",
    "        else:\n",
    "            current_chunk += 1\n",
    "            chunks.append(sentence.split(' '))\n",
    "    else:\n",
    "        print(current_chunk)\n",
    "        chunks.append(sentence.split(' '))\n",
    "\n",
    "for chunk_id in range(len(chunks)):\n",
    "    chunks[chunk_id] = ' '.join(chunks[chunk_id])"
   ]
  },
  {
   "cell_type": "code",
   "execution_count": 22,
   "id": "c295e633",
   "metadata": {},
   "outputs": [
    {
     "data": {
      "text/plain": [
       "3"
      ]
     },
     "execution_count": 22,
     "metadata": {},
     "output_type": "execute_result"
    }
   ],
   "source": [
    "len(chunks)"
   ]
  },
  {
   "cell_type": "markdown",
   "id": "c9834360",
   "metadata": {},
   "source": [
    "### 7. Summarize Text"
   ]
  },
  {
   "cell_type": "code",
   "execution_count": 23,
   "id": "81f2155d",
   "metadata": {},
   "outputs": [],
   "source": [
    "res = summarizer(chunks, max_length = 120, min_length = 30, do_sample = False)"
   ]
  },
  {
   "cell_type": "code",
   "execution_count": 24,
   "id": "457e6f5d",
   "metadata": {},
   "outputs": [
    {
     "data": {
      "text/plain": [
       "{'summary_text': \" European lawmakers are putting the finishing touches on a set of wide-ranging rules designed to govern the use of artificial intelligence . The E. U.  Artificial Intelligence Act is likely to ban controversial uses of AI like social scoring and facial recognition in public . The rules could set a global bar for how companies build and deploy their AI systems . One of the Act's most contentious points is whether so-called “general purpose AI” should be considered high-risk .\"}"
      ]
     },
     "execution_count": 24,
     "metadata": {},
     "output_type": "execute_result"
    }
   ],
   "source": [
    "res[0]"
   ]
  },
  {
   "cell_type": "code",
   "execution_count": 25,
   "id": "ae98613d",
   "metadata": {},
   "outputs": [
    {
     "data": {
      "text/plain": [
       "\" European lawmakers are putting the finishing touches on a set of wide-ranging rules designed to govern the use of artificial intelligence . The E. U.  Artificial Intelligence Act is likely to ban controversial uses of AI like social scoring and facial recognition in public . The rules could set a global bar for how companies build and deploy their AI systems . One of the Act's most contentious points is whether so-called “general purpose AI” should be considered high-risk .  Big Tech companies like Google and Microsoft, which have plowed billions of dollars into AI, are arguing against the proposals . Lobbyists have argued that it is only when general purpose AIs are applied to “high risk” use cases that they become dangerous . Categorizing general-purpose AI systems as ‘high risk,” Google argued, could harm consumers and hamper innovation .  Some argue that the E. U.  has placed itself in a bind by structuring the AI Act in an outdated fashion . Under the prevailing business model that has since emerged, these big companies license their powerful general purpose AIs to other businesses, who will often adapt them to specific tasks .\""
      ]
     },
     "execution_count": 25,
     "metadata": {},
     "output_type": "execute_result"
    }
   ],
   "source": [
    "' '.join([summ['summary_text'] for summ in res])"
   ]
  },
  {
   "cell_type": "code",
   "execution_count": 26,
   "id": "869f9499",
   "metadata": {},
   "outputs": [],
   "source": [
    "text = ' '.join([summ['summary_text'] for summ in res])"
   ]
  },
  {
   "cell_type": "markdown",
   "id": "2c7e99d7",
   "metadata": {},
   "source": [
    "### 8. PIPELINE Summarized Output"
   ]
  },
  {
   "cell_type": "code",
   "execution_count": 27,
   "id": "7ae8e456",
   "metadata": {},
   "outputs": [
    {
     "data": {
      "text/plain": [
       "\" European lawmakers are putting the finishing touches on a set of wide-ranging rules designed to govern the use of artificial intelligence . The E. U.  Artificial Intelligence Act is likely to ban controversial uses of AI like social scoring and facial recognition in public . The rules could set a global bar for how companies build and deploy their AI systems . One of the Act's most contentious points is whether so-called “general purpose AI” should be considered high-risk .  Big Tech companies like Google and Microsoft, which have plowed billions of dollars into AI, are arguing against the proposals . Lobbyists have argued that it is only when general purpose AIs are applied to “high risk” use cases that they become dangerous . Categorizing general-purpose AI systems as ‘high risk,” Google argued, could harm consumers and hamper innovation .  Some argue that the E. U.  has placed itself in a bind by structuring the AI Act in an outdated fashion . Under the prevailing business model that has since emerged, these big companies license their powerful general purpose AIs to other businesses, who will often adapt them to specific tasks .\""
      ]
     },
     "execution_count": 27,
     "metadata": {},
     "output_type": "execute_result"
    }
   ],
   "source": [
    "text"
   ]
  },
  {
   "cell_type": "code",
   "execution_count": null,
   "id": "1154a7ac",
   "metadata": {},
   "outputs": [],
   "source": []
  }
 ],
 "metadata": {
  "kernelspec": {
   "display_name": "Python 3 (ipykernel)",
   "language": "python",
   "name": "python3"
  },
  "language_info": {
   "codemirror_mode": {
    "name": "ipython",
    "version": 3
   },
   "file_extension": ".py",
   "mimetype": "text/x-python",
   "name": "python",
   "nbconvert_exporter": "python",
   "pygments_lexer": "ipython3",
   "version": "3.8.16"
  }
 },
 "nbformat": 4,
 "nbformat_minor": 5
}
